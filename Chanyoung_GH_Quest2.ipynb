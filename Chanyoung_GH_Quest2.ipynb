{
 "cells": [
  {
   "cell_type": "code",
   "execution_count": 74,
   "metadata": {},
   "outputs": [],
   "source": [
    "import scipy.optimize as op\n",
    "import matplotlib.pyplot as plt\n",
    "import numpy as np"
   ]
  },
  {
   "cell_type": "code",
   "execution_count": 75,
   "metadata": {},
   "outputs": [],
   "source": [
    "# 참고: 2차원 cost function\n",
    "def f2(x,y): \n",
    "    return (1-x)**2 + 100*(y-x**2)**2"
   ]
  },
  {
   "cell_type": "code",
   "execution_count": 76,
   "metadata": {},
   "outputs": [
    {
     "data": {
      "image/png": "[encoded data removed]",
      "text/plain": [
       "<Figure size 432x288 with 1 Axes>"
      ]
     },
     "metadata": {
      "needs_background": "light"
     },
     "output_type": "display_data"
    }
   ],
   "source": [
    "x = np.linspace(-100, 100, 100) # (-1,5)범위에서 100개의 점 찍기\n",
    "y = np.linspace(-100, 100, 100)\n",
    "plt.plot(x, y, f2(x,y))\n",
    "plt.show() # (x-2)**2+2 식이 x=2에서 최솟값을 가짐을 알 수 있습니다"
   ]
  },
  {
   "cell_type": "code",
   "execution_count": 77,
   "metadata": {},
   "outputs": [
    {
     "data": {
      "text/plain": [
       "      fun: array([0.])\n",
       " hess_inv: array([[1]])\n",
       "      jac: array([5.97536573e-06])\n",
       "  message: 'Optimization terminated successfully.'\n",
       "     nfev: 3\n",
       "      nit: 0\n",
       "     njev: 1\n",
       "   status: 0\n",
       "  success: True\n",
       "        x: array([1.])"
      ]
     },
     "execution_count": 77,
     "metadata": {},
     "output_type": "execute_result"
    }
   ],
   "source": [
    "# scipy 라이브러리로 최솟값 구해보기\n",
    "initial_guess_x, initial_guess_y = 1, 1 # 임의의 parameter 추정 시작값\n",
    "result = op.minimize(f2,initial_guess_x, initial_guess_y) # f1(1차원 cost function)을 minimize!\n",
    "result # result['x']: array([1.99999999]) -> cost function을 최소화하는 parameter값\n",
    "# scipy모듈을 통해서도 x=1.9999 즉 x=2가 함수를 minimize하는 값임을 확인할 수 있습니다"
   ]
  },
  {
   "cell_type": "code",
   "execution_count": null,
   "metadata": {},
   "outputs": [],
   "source": []
  }
 ],
 "metadata": {
  "kernelspec": {
   "display_name": "Python 3",
   "language": "python",
   "name": "python3"
  },
  "language_info": {
   "codemirror_mode": {
    "name": "ipython",
    "version": 3
   },
   "file_extension": ".py",
   "mimetype": "text/x-python",
   "name": "python",
   "nbconvert_exporter": "python",
   "pygments_lexer": "ipython3",
   "version": "3.7.1"
  }
 },
 "nbformat": 4,
 "nbformat_minor": 2
}
